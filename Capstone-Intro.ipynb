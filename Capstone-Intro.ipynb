{
 "cells": [
  {
   "cell_type": "markdown",
   "metadata": {},
   "source": [
    "## Corporate Neighborhood Recommender"
   ]
  },
  {
   "cell_type": "markdown",
   "metadata": {},
   "source": [
    "### Introduction"
   ]
  },
  {
   "cell_type": "markdown",
   "metadata": {},
   "source": [
    "A corporation has offices in Boston, Chicago, Atlanta, and Denver.  Employees often transfer between the locations, with stays typically lasting 2 years.  To ease the transition, the human resources department would like to be able to recommend areas to look for housing based on where the employee previously lived.\n",
    "By analyzing the area where the employee previously lived, the HR department hopes to be able to recommend an area where the employee will feel \"right at home\"."
   ]
  }
 ],
 "metadata": {
  "kernelspec": {
   "display_name": "Python 3",
   "language": "python",
   "name": "python3"
  },
  "language_info": {
   "codemirror_mode": {
    "name": "ipython",
    "version": 3
   },
   "file_extension": ".py",
   "mimetype": "text/x-python",
   "name": "python",
   "nbconvert_exporter": "python",
   "pygments_lexer": "ipython3",
   "version": "3.6.6"
  }
 },
 "nbformat": 4,
 "nbformat_minor": 2
}
