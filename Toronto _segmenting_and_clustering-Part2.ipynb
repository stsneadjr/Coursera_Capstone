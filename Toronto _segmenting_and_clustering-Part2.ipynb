{
    "nbformat_minor": 1, 
    "cells": [
        {
            "source": "# Segmenting and Clustering Neighborhoods in Toronto", 
            "cell_type": "markdown", 
            "metadata": {}
        }, 
        {
            "source": "### Import Libraries", 
            "cell_type": "markdown", 
            "metadata": {}
        }, 
        {
            "execution_count": 1, 
            "cell_type": "code", 
            "metadata": {}, 
            "outputs": [], 
            "source": "import requests\nfrom bs4 import BeautifulSoup\nimport pandas as pd\nimport numpy as np"
        }, 
        {
            "source": "### Create Toronto province dataframe", 
            "cell_type": "markdown", 
            "metadata": {}
        }, 
        {
            "execution_count": 2, 
            "cell_type": "code", 
            "metadata": {}, 
            "outputs": [
                {
                    "execution_count": 2, 
                    "metadata": {}, 
                    "data": {
                        "text/html": "<div>\n<style scoped>\n    .dataframe tbody tr th:only-of-type {\n        vertical-align: middle;\n    }\n\n    .dataframe tbody tr th {\n        vertical-align: top;\n    }\n\n    .dataframe thead th {\n        text-align: right;\n    }\n</style>\n<table border=\"1\" class=\"dataframe\">\n  <thead>\n    <tr style=\"text-align: right;\">\n      <th></th>\n      <th>Postcode</th>\n      <th>Borough</th>\n      <th>Neighbourhood</th>\n    </tr>\n  </thead>\n  <tbody>\n    <tr>\n      <th>0</th>\n      <td>M3A</td>\n      <td>North York</td>\n      <td>Parkwoods</td>\n    </tr>\n    <tr>\n      <th>1</th>\n      <td>M4A</td>\n      <td>North York</td>\n      <td>Victoria Village</td>\n    </tr>\n    <tr>\n      <th>2</th>\n      <td>M5A</td>\n      <td>Downtown Toronto</td>\n      <td>Harbourfront, Regent Park</td>\n    </tr>\n    <tr>\n      <th>3</th>\n      <td>M6A</td>\n      <td>North York</td>\n      <td>Lawrence Heights, Lawrence Manor</td>\n    </tr>\n    <tr>\n      <th>4</th>\n      <td>M7A</td>\n      <td>Queen's Park</td>\n      <td>Queen's Park</td>\n    </tr>\n    <tr>\n      <th>5</th>\n      <td>M9A</td>\n      <td>Etobicoke</td>\n      <td>Islington Avenue</td>\n    </tr>\n    <tr>\n      <th>6</th>\n      <td>M1B</td>\n      <td>Scarborough</td>\n      <td>Rouge, Malvern</td>\n    </tr>\n    <tr>\n      <th>7</th>\n      <td>M3B</td>\n      <td>North York</td>\n      <td>Don Mills North</td>\n    </tr>\n    <tr>\n      <th>8</th>\n      <td>M4B</td>\n      <td>East York</td>\n      <td>Woodbine Gardens, Parkview Hill</td>\n    </tr>\n    <tr>\n      <th>9</th>\n      <td>M5B</td>\n      <td>Downtown Toronto</td>\n      <td>Ryerson, Garden District</td>\n    </tr>\n  </tbody>\n</table>\n</div>", 
                        "text/plain": "  Postcode           Borough                     Neighbourhood\n0      M3A        North York                         Parkwoods\n1      M4A        North York                  Victoria Village\n2      M5A  Downtown Toronto         Harbourfront, Regent Park\n3      M6A        North York  Lawrence Heights, Lawrence Manor\n4      M7A      Queen's Park                      Queen's Park\n5      M9A         Etobicoke                  Islington Avenue\n6      M1B       Scarborough                    Rouge, Malvern\n7      M3B        North York                   Don Mills North\n8      M4B         East York   Woodbine Gardens, Parkview Hill\n9      M5B  Downtown Toronto          Ryerson, Garden District"
                    }, 
                    "output_type": "execute_result"
                }
            ], 
            "source": "wiki_page = requests.get('https://en.wikipedia.org/wiki/List_of_postal_codes_of_Canada:_M')\nsoup = BeautifulSoup(wiki_page.content, 'lxml')\ntables = soup.find_all('table')\ndf_toronto_raw = pd.read_html(str(tables), header=0)[0]\n\ndf_toronto_raw.drop(df_toronto_raw.index[df_toronto_raw.Borough=='Not assigned'], inplace=True)\ndf_toronto_raw.Neighbourhood = ', ' + df_toronto_raw.Neighbourhood\ndf_Toronto = df_toronto_raw.groupby(['Postcode','Borough'], sort=False).sum()\ndf_Toronto.reset_index(inplace=True)\ndf_Toronto.Neighbourhood = df_Toronto.Neighbourhood.apply(lambda x: x[2:])\n\nfor x in df_Toronto.index:\n    if df_Toronto.Neighbourhood[x] == 'Not assigned':\n        df_Toronto.Neighbourhood[x] = df_Toronto.Borough[x]\n\ndf_Toronto.head(10)"
        }, 
        {
            "source": "### Get latitude / longitude data", 
            "cell_type": "markdown", 
            "metadata": {}
        }, 
        {
            "execution_count": 3, 
            "cell_type": "code", 
            "metadata": {}, 
            "outputs": [
                {
                    "output_type": "stream", 
                    "name": "stdout", 
                    "text": "--2018-12-20 17:23:56--  https://cocl.us/Geospatial_data\nResolving cocl.us (cocl.us)... 159.8.72.228\nConnecting to cocl.us (cocl.us)|159.8.72.228|:443... connected.\nHTTP request sent, awaiting response... 301 Moved Permanently\nLocation: https://ibm.box.com/shared/static/9afzr83pps4pwf2smjjcf1y5mvgb18rr.csv [following]\n--2018-12-20 17:23:58--  https://ibm.box.com/shared/static/9afzr83pps4pwf2smjjcf1y5mvgb18rr.csv\nResolving ibm.box.com (ibm.box.com)... 107.152.27.197\nConnecting to ibm.box.com (ibm.box.com)|107.152.27.197|:443... connected.\nHTTP request sent, awaiting response... 301 Moved Permanently\nLocation: https://ibm.ent.box.com/shared/static/9afzr83pps4pwf2smjjcf1y5mvgb18rr.csv [following]\n--2018-12-20 17:23:58--  https://ibm.ent.box.com/shared/static/9afzr83pps4pwf2smjjcf1y5mvgb18rr.csv\nResolving ibm.ent.box.com (ibm.ent.box.com)... 107.152.26.211\nConnecting to ibm.ent.box.com (ibm.ent.box.com)|107.152.26.211|:443... connected.\nHTTP request sent, awaiting response... 302 Found\nLocation: https://public.boxcloud.com/d/1/b1!7G4DxobL96625VyY_vlUjHFU2fVhtMGdU0bd1hkpqInW2lB91RNY9CmEDja00GRhcyjNuXM4T1qhZpTN6OHvVEUQ2j-t17bbuBdLqIC-1qH0kUNpWnFE12YaH-ypRGtsIoduznDgx7ppjJcuutcQHdqx-eKG7t7u7k2v65_ipanLqYXlKKKmdYkiUPzNxHDix3wyZekNMPfa6hIFQ8MklX_E1zqfmBzNtLoDG35CR-TXwoZpyWVC3uhM-f-2_AVCPkUHEzrU-uIo7-lirJajMKhZgEe51A_f0WFCnVYvw7DnfjnvctCDVo2CeGbV53JtEoNTxF3y5POJe8xfvlEsIM81RdPdIcVXyUVbRMRRsej48zrorCp9yWkmz_hx9NS5HXdvIJRCgunLipzvet-Rd3ks04RQrsAyAhqyrP6Eh2TAaGY3THrMFj6_9YPbaeqX4NegbdtGd76yPJG-w8OMAo9HGmLwUNtnBQo-ZDH5sOnYQ0-Mn-qYEfS8E_LvAt8VuXqsc3nx2KZx8fKGZvucyFI8AEiwFhJIOuRI9iyTnpWWOk3vX2oa4ry_pVdUk_i2G8Jrp5BymwlSAwCmAd4nNazHsGZGgq8IAFK4fPdyJ3ZIKJ_4LxGNVR2kPGT1EOJn4tXo8SdiDHiwsdHqFhhw6wSyHsKJh1TwrTVFDr2IrmiAP8Eh5XKI354bvRQIYZFC7MoPt_ZKZoS4XsGYHGQbUSo4L8DcVqlBSL_Lrzu1iDqUJ3w307bOe3u8vMauEfChnoyfpSA5-T2MNUuTDJwZg3Jm-gor5fTasfe3ykttrSzSmcZ5vTWveLwaDbc-iqEaxW480zerhLhtogrlHSimyk38ZAN8WXh9MipNerGOAzoybd0lvQbshgyMqJjHBvQol6iji9bzHp1XuWQ4gj04watuTGYL9eF7J_N7xDT4X2-qrnchQVAPBCysaRJY82jk1ops7TkCU6NegmZfOzctQNQP_0KS7RJWW4L8Y3m3EoN8HSc9dRnQK0dPN4h3jSG0ys07i6J9NR5kqVVcQwl7IrhRXUcq8uCgDr2fffBdG-hrmvRmMDLy16IdSF113cv1N7lqv_gBjmv4gL1wPRRDnd4zWhTiStxluR7Eg9tCam9I8_IvrgUrt98QPdZMMnoTNmShBoBp1_lNN_KV-ilrvr0GlT5XQQBPUs2jVCHCQY-5ItSlvFTXbP8CR7fAkqmOivvjP1C3GAxaB5eelxp9pQRuvfUTm2mh0yKEvcW0FX2eLKyuG60jUU7iljQssiWKxXouozIWKzg6aqDJN5tm6q5y8LXlk2nHzqck3rzstTZPtsX0pTo9VOTNuVbDs2M0uqjCJQdSAdAJg-g20fzAZKOPl0LOvbbrNio_HaoyWTxGV1fB/download [following]\n--2018-12-20 17:23:59--  https://public.boxcloud.com/d/1/b1!7G4DxobL96625VyY_vlUjHFU2fVhtMGdU0bd1hkpqInW2lB91RNY9CmEDja00GRhcyjNuXM4T1qhZpTN6OHvVEUQ2j-t17bbuBdLqIC-1qH0kUNpWnFE12YaH-ypRGtsIoduznDgx7ppjJcuutcQHdqx-eKG7t7u7k2v65_ipanLqYXlKKKmdYkiUPzNxHDix3wyZekNMPfa6hIFQ8MklX_E1zqfmBzNtLoDG35CR-TXwoZpyWVC3uhM-f-2_AVCPkUHEzrU-uIo7-lirJajMKhZgEe51A_f0WFCnVYvw7DnfjnvctCDVo2CeGbV53JtEoNTxF3y5POJe8xfvlEsIM81RdPdIcVXyUVbRMRRsej48zrorCp9yWkmz_hx9NS5HXdvIJRCgunLipzvet-Rd3ks04RQrsAyAhqyrP6Eh2TAaGY3THrMFj6_9YPbaeqX4NegbdtGd76yPJG-w8OMAo9HGmLwUNtnBQo-ZDH5sOnYQ0-Mn-qYEfS8E_LvAt8VuXqsc3nx2KZx8fKGZvucyFI8AEiwFhJIOuRI9iyTnpWWOk3vX2oa4ry_pVdUk_i2G8Jrp5BymwlSAwCmAd4nNazHsGZGgq8IAFK4fPdyJ3ZIKJ_4LxGNVR2kPGT1EOJn4tXo8SdiDHiwsdHqFhhw6wSyHsKJh1TwrTVFDr2IrmiAP8Eh5XKI354bvRQIYZFC7MoPt_ZKZoS4XsGYHGQbUSo4L8DcVqlBSL_Lrzu1iDqUJ3w307bOe3u8vMauEfChnoyfpSA5-T2MNUuTDJwZg3Jm-gor5fTasfe3ykttrSzSmcZ5vTWveLwaDbc-iqEaxW480zerhLhtogrlHSimyk38ZAN8WXh9MipNerGOAzoybd0lvQbshgyMqJjHBvQol6iji9bzHp1XuWQ4gj04watuTGYL9eF7J_N7xDT4X2-qrnchQVAPBCysaRJY82jk1ops7TkCU6NegmZfOzctQNQP_0KS7RJWW4L8Y3m3EoN8HSc9dRnQK0dPN4h3jSG0ys07i6J9NR5kqVVcQwl7IrhRXUcq8uCgDr2fffBdG-hrmvRmMDLy16IdSF113cv1N7lqv_gBjmv4gL1wPRRDnd4zWhTiStxluR7Eg9tCam9I8_IvrgUrt98QPdZMMnoTNmShBoBp1_lNN_KV-ilrvr0GlT5XQQBPUs2jVCHCQY-5ItSlvFTXbP8CR7fAkqmOivvjP1C3GAxaB5eelxp9pQRuvfUTm2mh0yKEvcW0FX2eLKyuG60jUU7iljQssiWKxXouozIWKzg6aqDJN5tm6q5y8LXlk2nHzqck3rzstTZPtsX0pTo9VOTNuVbDs2M0uqjCJQdSAdAJg-g20fzAZKOPl0LOvbbrNio_HaoyWTxGV1fB/download\nResolving public.boxcloud.com (public.boxcloud.com)... 107.152.27.200\nConnecting to public.boxcloud.com (public.boxcloud.com)|107.152.27.200|:443... connected.\nHTTP request sent, awaiting response... 200 OK\nLength: 2891 (2.8K) [text/csv]\nSaving to: \u2018Geospatial_Coordinates.csv\u2019\n\n100%[======================================>] 2,891       --.-K/s   in 0s      \n\n2018-12-20 17:24:00 (430 MB/s) - \u2018Geospatial_Coordinates.csv\u2019 saved [2891/2891]\n\n"
                }
            ], 
            "source": "!wget -O Geospatial_Coordinates.csv https://cocl.us/Geospatial_data"
        }, 
        {
            "execution_count": 4, 
            "cell_type": "code", 
            "metadata": {}, 
            "outputs": [
                {
                    "execution_count": 4, 
                    "metadata": {}, 
                    "data": {
                        "text/html": "<div>\n<style scoped>\n    .dataframe tbody tr th:only-of-type {\n        vertical-align: middle;\n    }\n\n    .dataframe tbody tr th {\n        vertical-align: top;\n    }\n\n    .dataframe thead th {\n        text-align: right;\n    }\n</style>\n<table border=\"1\" class=\"dataframe\">\n  <thead>\n    <tr style=\"text-align: right;\">\n      <th></th>\n      <th>Postal Code</th>\n      <th>Latitude</th>\n      <th>Longitude</th>\n    </tr>\n  </thead>\n  <tbody>\n    <tr>\n      <th>0</th>\n      <td>M1B</td>\n      <td>43.806686</td>\n      <td>-79.194353</td>\n    </tr>\n    <tr>\n      <th>1</th>\n      <td>M1C</td>\n      <td>43.784535</td>\n      <td>-79.160497</td>\n    </tr>\n    <tr>\n      <th>2</th>\n      <td>M1E</td>\n      <td>43.763573</td>\n      <td>-79.188711</td>\n    </tr>\n    <tr>\n      <th>3</th>\n      <td>M1G</td>\n      <td>43.770992</td>\n      <td>-79.216917</td>\n    </tr>\n    <tr>\n      <th>4</th>\n      <td>M1H</td>\n      <td>43.773136</td>\n      <td>-79.239476</td>\n    </tr>\n  </tbody>\n</table>\n</div>", 
                        "text/plain": "  Postal Code   Latitude  Longitude\n0         M1B  43.806686 -79.194353\n1         M1C  43.784535 -79.160497\n2         M1E  43.763573 -79.188711\n3         M1G  43.770992 -79.216917\n4         M1H  43.773136 -79.239476"
                    }, 
                    "output_type": "execute_result"
                }
            ], 
            "source": "df_geo = pd.read_csv('Geospatial_Coordinates.csv')\ndf_geo.head()"
        }, 
        {
            "execution_count": 5, 
            "cell_type": "code", 
            "metadata": {}, 
            "outputs": [
                {
                    "output_type": "stream", 
                    "name": "stdout", 
                    "text": "Toronto df shape: (103, 3)\nGeo data df: (103, 3)\n"
                }
            ], 
            "source": "print('Toronto df shape:',df_Toronto.shape)\nprint('Geo data df:',df_geo.shape)"
        }, 
        {
            "source": "### Add Latitude / Longitude to Toronto dataframe", 
            "cell_type": "markdown", 
            "metadata": {}
        }, 
        {
            "execution_count": 6, 
            "cell_type": "code", 
            "metadata": {}, 
            "outputs": [
                {
                    "execution_count": 6, 
                    "metadata": {}, 
                    "data": {
                        "text/html": "<div>\n<style scoped>\n    .dataframe tbody tr th:only-of-type {\n        vertical-align: middle;\n    }\n\n    .dataframe tbody tr th {\n        vertical-align: top;\n    }\n\n    .dataframe thead th {\n        text-align: right;\n    }\n</style>\n<table border=\"1\" class=\"dataframe\">\n  <thead>\n    <tr style=\"text-align: right;\">\n      <th></th>\n      <th>Postcode</th>\n      <th>Borough</th>\n      <th>Neighbourhood</th>\n      <th>Latitude</th>\n      <th>Longitude</th>\n    </tr>\n  </thead>\n  <tbody>\n    <tr>\n      <th>0</th>\n      <td>M3A</td>\n      <td>North York</td>\n      <td>Parkwoods</td>\n      <td>43.753259</td>\n      <td>-79.329656</td>\n    </tr>\n    <tr>\n      <th>1</th>\n      <td>M4A</td>\n      <td>North York</td>\n      <td>Victoria Village</td>\n      <td>43.725882</td>\n      <td>-79.315572</td>\n    </tr>\n    <tr>\n      <th>2</th>\n      <td>M5A</td>\n      <td>Downtown Toronto</td>\n      <td>Harbourfront, Regent Park</td>\n      <td>43.654260</td>\n      <td>-79.360636</td>\n    </tr>\n    <tr>\n      <th>3</th>\n      <td>M6A</td>\n      <td>North York</td>\n      <td>Lawrence Heights, Lawrence Manor</td>\n      <td>43.718518</td>\n      <td>-79.464763</td>\n    </tr>\n    <tr>\n      <th>4</th>\n      <td>M7A</td>\n      <td>Queen's Park</td>\n      <td>Queen's Park</td>\n      <td>43.662301</td>\n      <td>-79.389494</td>\n    </tr>\n    <tr>\n      <th>5</th>\n      <td>M9A</td>\n      <td>Etobicoke</td>\n      <td>Islington Avenue</td>\n      <td>43.667856</td>\n      <td>-79.532242</td>\n    </tr>\n    <tr>\n      <th>6</th>\n      <td>M1B</td>\n      <td>Scarborough</td>\n      <td>Rouge, Malvern</td>\n      <td>43.806686</td>\n      <td>-79.194353</td>\n    </tr>\n    <tr>\n      <th>7</th>\n      <td>M3B</td>\n      <td>North York</td>\n      <td>Don Mills North</td>\n      <td>43.745906</td>\n      <td>-79.352188</td>\n    </tr>\n    <tr>\n      <th>8</th>\n      <td>M4B</td>\n      <td>East York</td>\n      <td>Woodbine Gardens, Parkview Hill</td>\n      <td>43.706397</td>\n      <td>-79.309937</td>\n    </tr>\n    <tr>\n      <th>9</th>\n      <td>M5B</td>\n      <td>Downtown Toronto</td>\n      <td>Ryerson, Garden District</td>\n      <td>43.657162</td>\n      <td>-79.378937</td>\n    </tr>\n  </tbody>\n</table>\n</div>", 
                        "text/plain": "  Postcode           Borough                     Neighbourhood   Latitude  \\\n0      M3A        North York                         Parkwoods  43.753259   \n1      M4A        North York                  Victoria Village  43.725882   \n2      M5A  Downtown Toronto         Harbourfront, Regent Park  43.654260   \n3      M6A        North York  Lawrence Heights, Lawrence Manor  43.718518   \n4      M7A      Queen's Park                      Queen's Park  43.662301   \n5      M9A         Etobicoke                  Islington Avenue  43.667856   \n6      M1B       Scarborough                    Rouge, Malvern  43.806686   \n7      M3B        North York                   Don Mills North  43.745906   \n8      M4B         East York   Woodbine Gardens, Parkview Hill  43.706397   \n9      M5B  Downtown Toronto          Ryerson, Garden District  43.657162   \n\n   Longitude  \n0 -79.329656  \n1 -79.315572  \n2 -79.360636  \n3 -79.464763  \n4 -79.389494  \n5 -79.532242  \n6 -79.194353  \n7 -79.352188  \n8 -79.309937  \n9 -79.378937  "
                    }, 
                    "output_type": "execute_result"
                }
            ], 
            "source": "lat = pd.Series(np.zeros(len(df_Toronto)))\nlon = pd.Series(np.zeros(len(df_Toronto)))\n\nfor n in df_Toronto.index:\n    for g in df_geo.index:\n        if df_Toronto.Postcode[n] == df_geo['Postal Code'][g]:\n            lat[n] = df_geo.Latitude[g]\n            lon[n] = df_geo.Longitude[g]\n            \ndf_Toronto['Latitude'] = lat\ndf_Toronto['Longitude'] = lon\ndf_Toronto.head(10)"
        }, 
        {
            "execution_count": null, 
            "cell_type": "code", 
            "metadata": {}, 
            "outputs": [], 
            "source": ""
        }
    ], 
    "metadata": {
        "kernelspec": {
            "display_name": "Python 3.5", 
            "name": "python3", 
            "language": "python"
        }, 
        "language_info": {
            "mimetype": "text/x-python", 
            "nbconvert_exporter": "python", 
            "version": "3.5.5", 
            "name": "python", 
            "file_extension": ".py", 
            "pygments_lexer": "ipython3", 
            "codemirror_mode": {
                "version": 3, 
                "name": "ipython"
            }
        }
    }, 
    "nbformat": 4
}